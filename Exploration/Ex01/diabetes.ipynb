{
 "cells": [
  {
   "cell_type": "code",
   "execution_count": 63,
   "id": "d0fb4172",
   "metadata": {},
   "outputs": [],
   "source": [
    "from sklearn.datasets import load_diabetes\n",
    "\n",
    "# 데이터 로딩\n",
    "diabetes = load_diabetes()\n",
    "\n",
    "df_X = diabetes.data\n",
    "df_y = diabetes.target"
   ]
  },
  {
   "cell_type": "code",
   "execution_count": 64,
   "id": "ce9d5d60",
   "metadata": {},
   "outputs": [],
   "source": [
    "import numpy as np\n",
    "\n",
    "# 읽어온 데이터를 np.array 타입으로 변환\n",
    "df_X = np.array(df_X)\n",
    "df_y = np.array(df_y)"
   ]
  },
  {
   "cell_type": "code",
   "execution_count": 65,
   "id": "a61eb3f8",
   "metadata": {},
   "outputs": [],
   "source": [
    "from sklearn.model_selection import train_test_split\n",
    "\n",
    "# 데이터를 train set과 test set으로 구분\n",
    "X_train, X_test, y_train, y_test = train_test_split(df_X, df_y, test_size=0.2, random_state=250110)"
   ]
  },
  {
   "cell_type": "code",
   "execution_count": 66,
   "id": "953b5ea9",
   "metadata": {},
   "outputs": [
    {
     "data": {
      "text/plain": [
       "((353, 10), (89, 10), (353,), (89,))"
      ]
     },
     "execution_count": 66,
     "metadata": {},
     "output_type": "execute_result"
    }
   ],
   "source": [
    "# 데이터의 차원 확인\n",
    "X_train.shape, X_test.shape, y_train.shape, y_test.shape"
   ]
  },
  {
   "cell_type": "code",
   "execution_count": 67,
   "id": "4e2ef36b",
   "metadata": {},
   "outputs": [],
   "source": [
    "# 모델의 파라미터 초기화\n",
    "W = np.random.rand(10)\n",
    "b = np.random.rand()\n",
    "\n",
    "# 모델 함수\n",
    "def model(X, W, b):\n",
    "    predictions = 0\n",
    "    for i in range(10):\n",
    "        predictions += X[:, i] * W[i]\n",
    "    predictions += b\n",
    "    return predictions        "
   ]
  },
  {
   "cell_type": "code",
   "execution_count": 68,
   "id": "d035959d",
   "metadata": {},
   "outputs": [],
   "source": [
    "# Loss 계산을 위한 MSE 계산 함수\n",
    "def MSE(truth, predictions):\n",
    "    mse = ((truth - predictions) ** 2).mean()\n",
    "    return mse"
   ]
  },
  {
   "cell_type": "code",
   "execution_count": 69,
   "id": "2c5815b5",
   "metadata": {},
   "outputs": [],
   "source": [
    "# Loss 함수\n",
    "def loss(X, W, b, y):\n",
    "    predictions = model(X, W, b)\n",
    "    L = MSE(y, predictions)\n",
    "    return L"
   ]
  },
  {
   "cell_type": "code",
   "execution_count": 70,
   "id": "e4716cb2",
   "metadata": {},
   "outputs": [],
   "source": [
    "# 학습을 위한 gradient 계산\n",
    "def gradient(X, W, b, y):\n",
    "    N = len(y)\n",
    "    \n",
    "    y_pred = model(X, W, b)\n",
    "    \n",
    "    dW = 1/N * 2 * X.T.dot(y_pred - y)\n",
    "    db = 2 * (y_pred - y).mean()\n",
    "    \n",
    "    return dW, db"
   ]
  },
  {
   "cell_type": "code",
   "execution_count": 84,
   "id": "2cf4080f",
   "metadata": {},
   "outputs": [],
   "source": [
    "# Learning Rate\n",
    "learning_rate = 0.5"
   ]
  },
  {
   "cell_type": "code",
   "execution_count": 85,
   "id": "4a637717",
   "metadata": {},
   "outputs": [
    {
     "name": "stdout",
     "output_type": "stream",
     "text": [
      "Iteration 100: Loss 3965.01744551989\n",
      "Iteration 200: Loss 3471.933339638802\n",
      "Iteration 300: Loss 3263.894141395569\n",
      "Iteration 400: Loss 3150.229936041064\n",
      "Iteration 500: Loss 3081.4957932387306\n",
      "Iteration 600: Loss 3038.354977536607\n",
      "Iteration 700: Loss 3010.7688202210543\n",
      "Iteration 800: Loss 2992.874269671316\n",
      "Iteration 900: Loss 2981.101610529832\n",
      "Iteration 1000: Loss 2973.2388839661103\n",
      "Iteration 1100: Loss 2967.900347195894\n",
      "Iteration 1200: Loss 2964.2097154644775\n",
      "Iteration 1300: Loss 2961.6077643196986\n",
      "Iteration 1400: Loss 2959.7342145897173\n",
      "Iteration 1500: Loss 2958.3546232206695\n",
      "Iteration 1600: Loss 2957.314793922206\n",
      "Iteration 1700: Loss 2956.5121433628906\n",
      "Iteration 1800: Loss 2955.877586749701\n",
      "Iteration 1900: Loss 2955.3639931725206\n",
      "Iteration 2000: Loss 2954.938770830119\n",
      "Iteration 2100: Loss 2954.5790654064785\n",
      "Iteration 2200: Loss 2954.2686230228023\n",
      "Iteration 2300: Loss 2953.995720992809\n",
      "Iteration 2400: Loss 2953.7517886992578\n",
      "Iteration 2500: Loss 2953.5304781066047\n",
      "Iteration 2600: Loss 2953.32702980422\n",
      "Iteration 2700: Loss 2953.1378351542794\n",
      "Iteration 2800: Loss 2952.960129923536\n",
      "Iteration 2900: Loss 2952.7917770613667\n",
      "Iteration 3000: Loss 2952.6311106412095\n"
     ]
    }
   ],
   "source": [
    "# 학습; gradient 계산 -> 가중치 업데이트 -> Loss 계산 과정 반복\n",
    "losses = []\n",
    "for i in range(1, 3001):\n",
    "    dW, db = gradient(X_train, W, b, y_train)\n",
    "    W -= learning_rate * dW\n",
    "    b -= learning_rate * db\n",
    "    L = loss(X_train, W, b, y_train)\n",
    "    losses.append(L)\n",
    "    \n",
    "    if i % 100 == 0:\n",
    "        print(f'Iteration {i}: Loss {L}')\n"
   ]
  },
  {
   "cell_type": "code",
   "execution_count": 86,
   "id": "c0f306da",
   "metadata": {},
   "outputs": [
    {
     "data": {
      "text/plain": [
       "2653.5773622837437"
      ]
     },
     "execution_count": 86,
     "metadata": {},
     "output_type": "execute_result"
    }
   ],
   "source": [
    "# Test set에 대한 예측 수행하고, mse 확인\n",
    "prediction = model(X_test, W, b)\n",
    "mse = loss(X_test, W, b, y_test)\n",
    "mse"
   ]
  },
  {
   "cell_type": "code",
   "execution_count": 80,
   "id": "1df45340",
   "metadata": {},
   "outputs": [
    {
     "data": {
      "image/png": "[encoded data removed]",
      "text/plain": [
       "<Figure size 432x288 with 1 Axes>"
      ]
     },
     "metadata": {
      "image/png": {
       "height": 248,
       "width": 375
      },
      "needs_background": "light"
     },
     "output_type": "display_data"
    }
   ],
   "source": [
    "# 그래프로 표현\n",
    "import matplotlib.pyplot as plt\n",
    "%matplotlib inline \n",
    "%config InlineBackend.figure_format = 'retina'\n",
    "\n",
    "plt.scatter(X_test[:, 0], y_test)\n",
    "plt.scatter(X_test[:, 0], prediction)\n",
    "plt.show()"
   ]
  },
  {
   "cell_type": "code",
   "execution_count": 81,
   "id": "f073c4bd",
   "metadata": {},
   "outputs": [
    {
     "data": {
      "text/plain": [
       "array([  6.75311459,   1.0294806 ,  22.32819125,  16.13981158,\n",
       "         7.14851513,   5.6248048 , -13.77343133,  16.31128847,\n",
       "        21.11712354,  14.44320065])"
      ]
     },
     "execution_count": 81,
     "metadata": {},
     "output_type": "execute_result"
    }
   ],
   "source": [
    "# 가중치 값 확인\n",
    "W"
   ]
  },
  {
   "cell_type": "code",
   "execution_count": 82,
   "id": "36d3e1ba",
   "metadata": {},
   "outputs": [
    {
     "data": {
      "text/plain": [
       "154.54494041317645"
      ]
     },
     "execution_count": 82,
     "metadata": {},
     "output_type": "execute_result"
    }
   ],
   "source": [
    "b"
   ]
  },
  {
   "cell_type": "code",
   "execution_count": 83,
   "id": "d24a77bb",
   "metadata": {},
   "outputs": [
    {
     "data": {
      "image/png": "[encoded data removed]",
      "text/plain": [
       "<Figure size 432x288 with 1 Axes>"
      ]
     },
     "metadata": {
      "image/png": {
       "height": 248,
       "width": 375
      },
      "needs_background": "light"
     },
     "output_type": "display_data"
    }
   ],
   "source": [
    "# truth와 예측값 간의 상관관계 시각화\n",
    "plt.scatter(y_test, prediction)\n",
    "plt.show()"
   ]
  },
  {
   "cell_type": "code",
   "execution_count": null,
   "id": "14484fa1",
   "metadata": {},
   "outputs": [],
   "source": []
  }
 ],
 "metadata": {
  "kernelspec": {
   "display_name": "Python 3 (ipykernel)",
   "language": "python",
   "name": "python3"
  },
  "language_info": {
   "codemirror_mode": {
    "name": "ipython",
    "version": 3
   },
   "file_extension": ".py",
   "mimetype": "text/x-python",
   "name": "python",
   "nbconvert_exporter": "python",
   "pygments_lexer": "ipython3",
   "version": "3.9.7"
  }
 },
 "nbformat": 4,
 "nbformat_minor": 5
}
